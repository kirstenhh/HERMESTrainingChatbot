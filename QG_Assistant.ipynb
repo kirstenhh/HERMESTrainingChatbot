{
 "cells": [
  {
   "cell_type": "code",
   "execution_count": 2,
   "metadata": {},
   "outputs": [],
   "source": [
    "from openai import OpenAI\n",
    "from dotenv import load_dotenv\n",
    "import json\n",
    "import os\n",
    "import time\n",
    "from HERMES import reference\n",
    "\n",
    "LANGUAGES = [\n",
    "\t{\"name\":\"German\", \"short\":\"d\"},\n",
    "    {\"name\":\"French\", \"short\":\"f\"}\n",
    "]\n",
    "language = LANGUAGES[0] #Change this to select language."
   ]
  },
  {
   "cell_type": "code",
   "execution_count": 3,
   "metadata": {},
   "outputs": [],
   "source": [
    "load_dotenv()\n",
    "OPENAI_API_KEY = os.getenv(\"OPENAI_API_KEY\")\n",
    "client = OpenAI(api_key=OPENAI_API_KEY)"
   ]
  },
  {
   "cell_type": "code",
   "execution_count": 6,
   "metadata": {},
   "outputs": [],
   "source": [
    "# --------------------------------------------------------------\n",
    "# Assistants IDs\n",
    "# --------------------------------------------------------------\n",
    "#QAassistant = client.beta.assistants.retrieve(\"asst_otEHfkni1yg695z3lSFA8MHh\")\n",
    "\n",
    "QAassistant = client.beta.assistants.retrieve(\"asst_RF4gChYqyrrpMENDifCWfdmY\")\n",
    "\n",
    "# --------------------------------------------------------------\n",
    "# Generation of answers using an Assistant\n",
    "# --------------------------------------------------------------\n",
    "\n",
    "def run_assistant(thread,assistant):\n",
    "\n",
    "    # Run the assistant\n",
    "    run = client.beta.threads.runs.create(\n",
    "        thread_id=thread.id,\n",
    "        assistant_id=assistant.id,\n",
    "\n",
    "    )\n",
    "\n",
    "    # Wait for completion\n",
    "    while run.status != \"completed\":\n",
    "        # Be nice to the API\n",
    "        time.sleep(0.2)\n",
    "        run = client.beta.threads.runs.retrieve(thread_id=thread.id, run_id=run.id)\n",
    "    # Retrieve the Messages\n",
    "    messages = client.beta.threads.messages.list(thread_id=thread.id)\n",
    "    return messages.data[0].content[0].text.value\n",
    "\n",
    "def generate_response(assistant,prompt):\n",
    "\n",
    "    thread = client.beta.threads.create(\n",
    "        messages = [\n",
    "            {\n",
    "            \"role\" : \"user\",\n",
    "            \"content\" : prompt\n",
    "        }]\n",
    "    )\n",
    "\n",
    "    response = run_assistant(thread,assistant)\n",
    "    try:\n",
    "        jsontest = json.loads(response)\n",
    "    except ValueError as e:\n",
    "        print(\"Response was not returned as valid JSON. Attempting to clear this up.\")\n",
    "        stripped = response.replace('```','').replace('json','')\n",
    "        return stripped\n",
    "    return response"
   ]
  },
  {
   "cell_type": "code",
   "execution_count": 19,
   "metadata": {},
   "outputs": [],
   "source": [
    "with open(f\"learning-objectives.json\", 'r') as obfile:\n",
    "\t#for json file -> dictionary creation\n",
    "\tobjectives = json.load(obfile)[\"reference\"]\n",
    "\n",
    "#return a single string of all relevant objectives, concatenated.\n",
    "def get_objective(chapter):\n",
    "    return \"Learn well.\"\n",
    "    \"\"\"  parts = chapter.split(\".\") #\n",
    "    objectives_list = []\n",
    "    key=\"\"\n",
    "    for val in parts:\n",
    "        key = val if len(key)<1 else key+\".\"+val\n",
    "        obj = [o for o in objectives if key in o['chapters']]\n",
    "        for o in obj:\n",
    "            objectives_list.append(o[f\"objective-{language['short']}\"])\n",
    "    return  ''.join(objectives_list) \"\"\"\n"
   ]
  },
  {
   "cell_type": "code",
   "execution_count": 20,
   "metadata": {},
   "outputs": [],
   "source": [
    "def generateQA(assistant,text,objective):\n",
    "    prompt = f\"\"\"\n",
    "    Your task is to generate a question and answer based on the following steps:\n",
    "    Step 1: Based on the provided text: \"{text}\", generate a one sentence question in {language[\"name\"]}.\n",
    "    Step 2: Ensure the question:\n",
    "    - Is clear\n",
    "    - Is relevant\n",
    "    - Is meaningful according to the objective: \"{objective}\"\n",
    "    - Uses simple vocabulary\n",
    "    - Asks about an important aspect of the text\n",
    "    - Asks only one thing\n",
    "    Step 3: Retrieve the correct answer by citing the exact sentence provided in the text.\n",
    "    Step 4: Provide the output as valid JSON with the keys \"Question\" and \"Answer\".\n",
    "    \"\"\"\n",
    "\n",
    "    response = generate_response(QAassistant,prompt)\n",
    "\n",
    "    data = json.loads(response)\n",
    "    question= data[\"Question\"]\n",
    "    answer = data[\"Answer\"]\n",
    "    return question,answer\n"
   ]
  },
  {
   "cell_type": "code",
   "execution_count": 62,
   "metadata": {},
   "outputs": [],
   "source": [
    "reference = reference\n",
    "# [\n",
    "\n",
    "#  {\"chapter\": \"7.4.8.3\",\n",
    "\n",
    "#      \"information\": '''\n",
    "#        Die definierten HERMES-Szenarien und -Module können mit Ergebnissen und den dazu-\n",
    "#     gehörigen Aufgaben erweitert, aber nicht reduziert werden.'''},\n",
    "\n",
    "\n",
    "# ]"
   ]
  },
  {
   "cell_type": "code",
   "execution_count": 21,
   "metadata": {},
   "outputs": [
    {
     "data": {
      "text/plain": [
       "[{'question_text': \"Was ist der Inhalt des Textes mit dem Titel 'Methodenüberblick'?\",\n",
       "  'correct_answer': 'Methodenüberblick',\n",
       "  'link': 'A'},\n",
       " {'question_text': 'Was versinnbildlichen die roten ovalen Iterationspfeile im Kontext von HERMES?',\n",
       "  'correct_answer': 'Die roten ovalen Iterationspfeile versinnbildlichen den Kern der Iteration, den treibenden Charakter der Module Produkt und IT-System während der agilen Entwicklung.',\n",
       "  'link': 'A.1'},\n",
       " {'question_text': 'Wie ist das HERMES-Projektmanagement strukturiert und welches sind die gleichwertigen Elemente dieser Methode?',\n",
       "  'correct_answer': 'Wie die Abbildung 2 zeigt, sind HERMES-Portfoliomanagement, HERMES-Projektmanagement und HERMES-Anwendungsmanagement gleichwertige Methodenelemente und bilden gemeinsam die HERMES-Methode.',\n",
       "  'link': 'A.2'},\n",
       " {'question_text': 'Wie wird im HERMES-Projektmanagement die Sizing-Funktion zur Anpassung der Projektszenarien verwendet?',\n",
       "  'correct_answer': 'Mit der im HERMES-Online bereitgestellten Sizing-Funktion werden die Standardszenarien gemäss der ermittelten tatsächlichen Projektwertigkeit angepasst.',\n",
       "  'link': 'A.3'},\n",
       " {'question_text': 'Welche Vorgehensweisen untersttzt die HERMES-Projektmanagementmethode?',\n",
       "  'correct_answer': 'Die HERMES-Projektmanagementmethode untersttzt zwei Vorgehensweisen: Das traditionelle klassische phasenweise Vorgehen nach Systems Engineering2, nachfolgend \"klassisch\" genannt, und das iterativ-inkrementelle Vorgehen3, nachfolgend \"agil\" genannt.',\n",
       "  'link': 'A.4'}]"
      ]
     },
     "execution_count": 21,
     "metadata": {},
     "output_type": "execute_result"
    }
   ],
   "source": [
    "training_questions = []\n",
    "short_reference = reference[0:5] #first five only, for testing\n",
    "for ref in short_reference:\n",
    "    information = ref['information']\n",
    "    chapter = ref['chapter']\n",
    "    objective = get_objective(chapter)\n",
    "    response = generateQA(QAassistant,information,objectives)\n",
    "    question_dict = {}\n",
    "    question_dict[\"question_text\"] = response[0]\n",
    "    question_dict[\"correct_answer\"] = response[1]\n",
    "    question_dict[\"link\"] = chapter\n",
    "    training_questions.append(question_dict)\n",
    "\n",
    "training_questions\n"
   ]
  },
  {
   "cell_type": "code",
   "execution_count": 64,
   "metadata": {},
   "outputs": [
    {
     "data": {
      "text/plain": [
       "[{'question_text': \"Was verstehen die Teilnehmer unter dem Methodenelement 'Ergebnissen' und 'Aufgaben'?\",\n",
       "  'correct_answer': \"Die Teilnehmer wissen, was unter Methodenelementen 'Ergebnissen' und 'Aufgaben' verstanden wird.【4:3†Objectives-2.txt】\",\n",
       "  'link': 'A'},\n",
       " {'question_text': 'Was symbolisieren die roten ovalen Iterationspfeile in der HERMES-Methode?',\n",
       "  'correct_answer': 'Die roten ovalen Iterationspfeile versinnbildlichen den Kern der Iteration, den treibenden Charakter der Module Produkt und IT-System während der agilen Entwicklung.',\n",
       "  'link': 'A.1'},\n",
       " {'question_text': 'Was unterstützt HERMES-Projektmanagement?',\n",
       "  'correct_answer': 'HERMES-Projektmanagement unterstützt die Steuerung, Führung und Ausführung von Vorhaben und begleitet die Weiterentwicklung von organisatorischen Strukturen, Produkten und Dienstleistungen, IT- und Logistiksystemen, Infrastrukturen u. ä. unterschiedlicher Charakteristiken und Komplexitäten.',\n",
       "  'link': 'A.2'},\n",
       " {'question_text': 'Wie passt die Sizing-Funktion in HERMES-Online die Standardszenarien an die ermittelte Projektwertigkeit an?',\n",
       "  'correct_answer': 'Mit der im HERMES-Online bereitgestellten Sizing-Funktion werden die Standardszenarien gemäss der ermittelten tatsächlichen Projektwertigkeit angepasst.',\n",
       "  'link': 'A.3'},\n",
       " {'question_text': 'Welche zwei Vorgehensweisen unterstützt die HERMES-Projektmanagementmethode?',\n",
       "  'correct_answer': \"Die HERMES-Projektmanagementmethode unterstützt zwei Vorgehensweisen: Das traditionelle klassische phasenweise Vorgehen nach Systems Engineering, nachfolgend 'klassisch' genannt, und das iterativ-inkrementelle Vorgehen, nachfolgend 'agil' genannt.\",\n",
       "  'link': 'A.4'}]"
      ]
     },
     "execution_count": 64,
     "metadata": {},
     "output_type": "execute_result"
    }
   ],
   "source": [
    "\n",
    "training_questions\n"
   ]
  },
  {
   "cell_type": "code",
   "execution_count": null,
   "metadata": {},
   "outputs": [],
   "source": []
  },
  {
   "cell_type": "code",
   "execution_count": null,
   "metadata": {},
   "outputs": [],
   "source": []
  }
 ],
 "metadata": {
  "kernelspec": {
   "display_name": "Python 3 (ipykernel)",
   "language": "python",
   "name": "python3"
  },
  "language_info": {
   "codemirror_mode": {
    "name": "ipython",
    "version": 3
   },
   "file_extension": ".py",
   "mimetype": "text/x-python",
   "name": "python",
   "nbconvert_exporter": "python",
   "pygments_lexer": "ipython3",
   "version": "3.10.7"
  }
 },
 "nbformat": 4,
 "nbformat_minor": 4
}
